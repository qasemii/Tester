{
 "cells": [
  {
   "cell_type": "markdown",
   "id": "96b2330a-89a9-4f19-977d-d97db1699585",
   "metadata": {},
   "source": [
    "## LLMs don't know that they almost know"
   ]
  },
  {
   "cell_type": "code",
   "execution_count": 8,
   "id": "8abf7347-a9a5-474b-99d4-afabe30556ce",
   "metadata": {},
   "outputs": [
    {
     "name": "stdout",
     "output_type": "stream",
     "text": [
      "ANTLR runtime and generated code versions disagree: 4.9.3!=4.7.2\n",
      "ANTLR runtime and generated code versions disagree: 4.9.3!=4.7.2\n",
      "ANTLR runtime and generated code versions disagree: 4.9.3!=4.7.2\n",
      "ANTLR runtime and generated code versions disagree: 4.9.3!=4.7.2\n",
      "Generating reasoning ...: 100%|███████████████████| 5/5 [00:11<00:00,  2.25s/it]\n"
     ]
    }
   ],
   "source": [
    "!python augment_data.py --task \"ARC\" --max_examples 5"
   ]
  },
  {
   "cell_type": "code",
   "execution_count": 233,
   "id": "86a02288-9e81-4577-9523-8dbd8f95c13e",
   "metadata": {},
   "outputs": [],
   "source": [
    "task = \"OBQA\"\n",
    "model = \"Llama-3-8B\""
   ]
  },
  {
   "cell_type": "code",
   "execution_count": null,
   "id": "8d8a50dc-e9f0-415e-9475-178d840fb97d",
   "metadata": {
    "scrolled": true
   },
   "outputs": [],
   "source": [
    "with open(f\"./data/test_data/{task}_test.json\", \"r\") as f:\n",
    "    data = json.load(f)\n",
    "\n",
    "for i, d in enumerate(data):\n",
    "    question = data[i]['question']\n",
    "    if re.search(r'\\(\\d+\\)', question):\n",
    "        print(i)\n",
    "        numbers = re.findall(r'\\((\\d+)\\)', question)\n",
    "        for n, num in enumerate(numbers):\n",
    "            letter = string.ascii_uppercase[n]  # A, B, C, D, ...\n",
    "            question = re.sub(rf'\\({num}\\)', f'({letter})', question, count=1)\n",
    "        data[i]['question'] = question\n",
    "\n",
    "# with open(f\"./data/test_data/{task}_test.json\", \"w\") as f:\n",
    "#     json.dump(data, f)"
   ]
  },
  {
   "cell_type": "markdown",
   "id": "8ff70bf0-4ff2-4eaa-b72f-f6fa2f74373c",
   "metadata": {},
   "source": [
    "### Stage 1: Down sampling the options"
   ]
  },
  {
   "cell_type": "code",
   "execution_count": 217,
   "id": "721fe5e9-1782-4463-82af-3a43b116180f",
   "metadata": {
    "scrolled": true
   },
   "outputs": [
    {
     "name": "stderr",
     "output_type": "stream",
     "text": [
      "107726.07s - pydevd: Sending message related to process being replaced timed-out after 5 seconds\n"
     ]
    },
    {
     "name": "stdout",
     "output_type": "stream",
     "text": [
      "ANTLR runtime and generated code versions disagree: 4.9.3!=4.7.2\n",
      "ANTLR runtime and generated code versions disagree: 4.9.3!=4.7.2\n",
      "ANTLR runtime and generated code versions disagree: 4.9.3!=4.7.2\n",
      "ANTLR runtime and generated code versions disagree: 4.9.3!=4.7.2\n",
      "INFO 10-22 15:24:14 [__init__.py:241] Automatically detected platform cuda.\n",
      "INFO 10-22 15:24:16 [utils.py:326] non-default args: {'model': 'allenai/OLMo-2-1124-7B-Instruct', 'download_dir': '', 'gpu_memory_utilization': 0.4, 'disable_log_stats': True}\n",
      "INFO 10-22 15:24:23 [__init__.py:711] Resolved architecture: Olmo2ForCausalLM\n",
      "INFO 10-22 15:24:23 [__init__.py:1750] Using max model len 4096\n",
      "INFO 10-22 15:24:24 [scheduler.py:222] Chunked prefill is enabled with max_num_batched_tokens=8192.\n",
      "ANTLR runtime and generated code versions disagree: 4.9.3!=4.7.2\n",
      "ANTLR runtime and generated code versions disagree: 4.9.3!=4.7.2\n",
      "ANTLR runtime and generated code versions disagree: 4.9.3!=4.7.2\n",
      "ANTLR runtime and generated code versions disagree: 4.9.3!=4.7.2\n",
      "INFO 10-22 15:24:28 [__init__.py:241] Automatically detected platform cuda.\n",
      "\u001b[1;36m(EngineCore_0 pid=865183)\u001b[0;0m INFO 10-22 15:24:29 [core.py:636] Waiting for init message from front-end.\n",
      "\u001b[1;36m(EngineCore_0 pid=865183)\u001b[0;0m INFO 10-22 15:24:29 [core.py:74] Initializing a V1 LLM engine (v0.10.1.1) with config: model='allenai/OLMo-2-1124-7B-Instruct', speculative_config=None, tokenizer='allenai/OLMo-2-1124-7B-Instruct', skip_tokenizer_init=False, tokenizer_mode=auto, revision=None, override_neuron_config={}, tokenizer_revision=None, trust_remote_code=False, dtype=torch.bfloat16, max_seq_len=4096, download_dir='', load_format=auto, tensor_parallel_size=1, pipeline_parallel_size=1, disable_custom_all_reduce=False, quantization=None, enforce_eager=False, kv_cache_dtype=auto, device_config=cuda, decoding_config=DecodingConfig(backend='auto', disable_fallback=False, disable_any_whitespace=False, disable_additional_properties=False, reasoning_backend=''), observability_config=ObservabilityConfig(show_hidden_metrics_for_version=None, otlp_traces_endpoint=None, collect_detailed_traces=None), seed=0, served_model_name=allenai/OLMo-2-1124-7B-Instruct, enable_prefix_caching=True, chunked_prefill_enabled=True, use_async_output_proc=True, pooler_config=None, compilation_config={\"level\":3,\"debug_dump_path\":\"\",\"cache_dir\":\"\",\"backend\":\"\",\"custom_ops\":[],\"splitting_ops\":[\"vllm.unified_attention\",\"vllm.unified_attention_with_output\",\"vllm.mamba_mixer2\"],\"use_inductor\":true,\"compile_sizes\":[],\"inductor_compile_config\":{\"enable_auto_functionalized_v2\":false},\"inductor_passes\":{},\"cudagraph_mode\":1,\"use_cudagraph\":true,\"cudagraph_num_of_warmups\":1,\"cudagraph_capture_sizes\":[512,504,496,488,480,472,464,456,448,440,432,424,416,408,400,392,384,376,368,360,352,344,336,328,320,312,304,296,288,280,272,264,256,248,240,232,224,216,208,200,192,184,176,168,160,152,144,136,128,120,112,104,96,88,80,72,64,56,48,40,32,24,16,8,4,2,1],\"cudagraph_copy_inputs\":false,\"full_cuda_graph\":false,\"pass_config\":{},\"max_capture_size\":512,\"local_cache_dir\":null}\n",
      "\u001b[1;36m(EngineCore_0 pid=865183)\u001b[0;0m INFO 10-22 15:24:31 [parallel_state.py:1134] rank 0 in world size 1 is assigned as DP rank 0, PP rank 0, TP rank 0, EP rank 0\n",
      "\u001b[1;36m(EngineCore_0 pid=865183)\u001b[0;0m WARNING 10-22 15:24:31 [topk_topp_sampler.py:61] FlashInfer is not available. Falling back to the PyTorch-native implementation of top-p & top-k sampling. For the best performance, please install FlashInfer.\n",
      "\u001b[1;36m(EngineCore_0 pid=865183)\u001b[0;0m INFO 10-22 15:24:31 [gpu_model_runner.py:1953] Starting to load model allenai/OLMo-2-1124-7B-Instruct...\n",
      "\u001b[1;36m(EngineCore_0 pid=865183)\u001b[0;0m INFO 10-22 15:24:31 [gpu_model_runner.py:1985] Loading model from scratch...\n",
      "\u001b[1;36m(EngineCore_0 pid=865183)\u001b[0;0m INFO 10-22 15:24:32 [cuda.py:328] Using Flash Attention backend on V1 engine.\n",
      "\u001b[1;36m(EngineCore_0 pid=865183)\u001b[0;0m WARNING 10-22 15:24:32 [__init__.py:3897] `torch.compile` is turned on, but the model allenai/OLMo-2-1124-7B-Instruct does not support it. Please open an issue on GitHub if you want it to be supported.\n",
      "\u001b[1;36m(EngineCore_0 pid=865183)\u001b[0;0m INFO 10-22 15:24:33 [weight_utils.py:296] Using model weights format ['*.safetensors']\n",
      "Loading safetensors checkpoint shards:   0% Completed | 0/3 [00:00<?, ?it/s]\n",
      "Loading safetensors checkpoint shards:  33% Completed | 1/3 [00:00<00:01,  1.16it/s]\n",
      "Loading safetensors checkpoint shards:  67% Completed | 2/3 [00:01<00:00,  1.06it/s]\n",
      "Loading safetensors checkpoint shards: 100% Completed | 3/3 [00:02<00:00,  1.01it/s]\n",
      "Loading safetensors checkpoint shards: 100% Completed | 3/3 [00:02<00:00,  1.03it/s]\n",
      "\u001b[1;36m(EngineCore_0 pid=865183)\u001b[0;0m \n",
      "\u001b[1;36m(EngineCore_0 pid=865183)\u001b[0;0m INFO 10-22 15:24:36 [default_loader.py:262] Loading weights took 3.14 seconds\n",
      "\u001b[1;36m(EngineCore_0 pid=865183)\u001b[0;0m INFO 10-22 15:24:37 [gpu_model_runner.py:2007] Model loading took 13.5958 GiB and 4.845886 seconds\n",
      "\u001b[1;36m(EngineCore_0 pid=865183)\u001b[0;0m INFO 10-22 15:24:41 [gpu_worker.py:276] Available KV cache memory: 4.42 GiB\n",
      "\u001b[1;36m(EngineCore_0 pid=865183)\u001b[0;0m INFO 10-22 15:24:41 [kv_cache_utils.py:849] GPU KV cache size: 9,040 tokens\n",
      "\u001b[1;36m(EngineCore_0 pid=865183)\u001b[0;0m INFO 10-22 15:24:41 [kv_cache_utils.py:853] Maximum concurrency for 4,096 tokens per request: 2.21x\n",
      "Capturing CUDA graphs (mixed prefill-decode, PIECEWISE): 100%|█| 67/67 [00:18<00\n",
      "\u001b[1;36m(EngineCore_0 pid=865183)\u001b[0;0m INFO 10-22 15:25:01 [gpu_model_runner.py:2708] Graph capturing finished in 19 secs, took 0.11 GiB\n",
      "\u001b[1;36m(EngineCore_0 pid=865183)\u001b[0;0m INFO 10-22 15:25:01 [core.py:214] init engine (profile, create kv cache, warmup model) took 23.93 seconds\n",
      "INFO 10-22 15:25:02 [llm.py:298] Supported_tasks: ['generate']\n",
      "Adding requests: 100%|████████████████████| 3053/3053 [00:01<00:00, 2575.19it/s]\n",
      "Processed prompts: 100%|█| 3053/3053 [28:18<00:00,  1.80it/s, est. speed input: \n",
      "[rank0]:[W1022 15:53:22.053756617 ProcessGroupNCCL.cpp:1479] Warning: WARNING: destroy_process_group() was not called before program exit, which can leak resources. For more info, please see https://pytorch.org/docs/stable/distributed.html#shutdown (function operator())\n",
      "ERROR 10-22 15:53:23 [core_client.py:562] Engine core proc EngineCore_0 died unexpectedly, shutting down client.\n"
     ]
    }
   ],
   "source": [
    "!CUDA_VISIBLE_DEVICES=0 python evaluate.py --task $task --n 100 --model $model"
   ]
  },
  {
   "cell_type": "code",
   "execution_count": 234,
   "id": "bc63ff95-2b39-44d2-98d1-aa2defe7f08b",
   "metadata": {},
   "outputs": [
    {
     "name": "stdout",
     "output_type": "stream",
     "text": [
      "7\n",
      "16\n",
      "31\n",
      "32\n",
      "45\n",
      "49\n",
      "53\n",
      "71\n",
      "120\n",
      "124\n",
      "126\n",
      "133\n",
      "149\n",
      "151\n",
      "152\n",
      "157\n",
      "167\n",
      "183\n",
      "186\n",
      "196\n",
      "197\n",
      "223\n",
      "236\n",
      "246\n",
      "252\n",
      "260\n",
      "265\n",
      "290\n",
      "291\n",
      "292\n",
      "311\n",
      "313\n",
      "322\n",
      "338\n",
      "347\n",
      "378\n",
      "396\n",
      "400\n",
      "401\n",
      "413\n",
      "414\n",
      "434\n",
      "446\n",
      "486\n",
      "Number if filtered samples: 44\n"
     ]
    }
   ],
   "source": [
    "import json\n",
    "import re\n",
    "\n",
    "with open(f\"./results/{model}_{task}_100.json\", \"r\") as f:\n",
    "    outputs = json.load(f)\n",
    "\n",
    "# def post_processing(outputs):\n",
    "#     n_correct = 0\n",
    "#     for i, o in enumerate(outputs):\n",
    "#         # FIXING THE JSON ISSUE =========================================\n",
    "#         try: # ONLY FOR GEMMA \n",
    "#             text = outputs[i]['reasoning'].strip('```').split('json')[1]\n",
    "#             answers = json.loads(text)\n",
    "#             outputs[i]['reasoning'] = answers\n",
    "#         except json.JSONDecodeError:\n",
    "#             text = text + \"}\" # Missing bracket error\n",
    "#             answers = json.loads(text)\n",
    "#             outputs[i]['reasoning'] = answers\n",
    "#         except:\n",
    "#             answers = o.get('reasoning', {})\n",
    "\n",
    "#         # FIXING THE OPTIONS ISSUE =========================================\n",
    "#         try:\n",
    "#             outputs[i]['reasoning'].items()\n",
    "#         except:\n",
    "#             # print(i)\n",
    "#             continue\n",
    "            \n",
    "#         for j, prediction in outputs[i]['reasoning'].items(): # {'1': {\"answer\", \"reasoning\"}}\n",
    "#             answer_letter = prediction['answer']\n",
    "            \n",
    "#             if answer_letter and re.fullmatch(r'[A-Z]', answer_letter): # Keep the answer letter as it is\n",
    "#                 outputs[i]['reasoning'][j]['answer'] = answer_letter\n",
    "            \n",
    "#             elif answer_letter and re.fullmatch(r'[a-e]', answer_letter): # Sometime the option letters are in lowercase and we need to make them uppercase\n",
    "#                 outputs[i]['reasoning'][j]['answer'] = answer_letter.upper()            \n",
    "#             elif answer_letter:\n",
    "#                 pattern = r'\\(([A-Z])\\)\\s*([^()]+)'\n",
    "#                 options = re.findall(pattern, outputs[i]['question'], re.IGNORECASE) #When we have option text instead of option letter\n",
    "#                 new_answer_letter = next((letter for letter, text in options if text.strip().lower().strip('.') == answer_letter.lower()), None)\n",
    "#                 outputs[i]['reasoning'][j]['answer'] = new_answer_letter\n",
    "#             if outputs[i]['reasoning'][j]['answer'] is None:\n",
    "#                 print(i)\n",
    "# post_processing(outputs)\n",
    "        \n",
    "\n",
    "# THIS IS SIMPLE AGGRESSIVE POST PROCESSING\n",
    "filtered = []\n",
    "for i, o in enumerate(outputs):\n",
    "    try:\n",
    "        answers = o['reasoning']\n",
    "        first = answers['1']['answer']\n",
    "        second= answers['2']['answer']\n",
    "        if re.fullmatch(r'[A-Z]', first) and re.fullmatch(r'[A-Z]', second):\n",
    "            filtered.append(o)\n",
    "        else:\n",
    "            print(i)\n",
    "        continue\n",
    "    except:\n",
    "        print(i)\n",
    "        continue\n",
    "        \n",
    "save_path = f\"./results/{model}_{task}_100.json\"\n",
    "with open(save_path, \"w\") as f:\n",
    "    json.dump(filtered, f)\n",
    "\n",
    "print(\"Number if filtered samples:\", len(outputs)-len(filtered))"
   ]
  },
  {
   "cell_type": "code",
   "execution_count": 235,
   "id": "5351335f-a05b-49ab-8126-e07ad4f81d3d",
   "metadata": {},
   "outputs": [
    {
     "name": "stdout",
     "output_type": "stream",
     "text": [
      "Accuracy (first answer only): 0.6974\n",
      "Accuracy (any answer): 0.8706\n"
     ]
    }
   ],
   "source": [
    "import json\n",
    "\n",
    "with open(f\"./results/{model}_{task}_100.json\", \"r\") as f:\n",
    "    outputs = json.load(f)\n",
    "    \n",
    "def compute_accuracy(outputs, use_first_only=False):\n",
    "    n_correct = 0\n",
    "    for i, o in enumerate(outputs):\n",
    "        answers = o.get('reasoning', {})\n",
    "        try:\n",
    "            if use_first_only:\n",
    "                if o.get('gold_answer') == answers['1']['answer']:\n",
    "                    n_correct += 1\n",
    "            else:\n",
    "                if o.get('gold_answer') in [answers['1']['answer'], answers['2']['answer']]:\n",
    "                    n_correct += 1\n",
    "        except:\n",
    "            # print(i)\n",
    "            continue\n",
    "    return n_correct / len(outputs)\n",
    "\n",
    "# Accuracy for first answer only\n",
    "acc_first = compute_accuracy(outputs, use_first_only=True)\n",
    "print(f\"Accuracy (first answer only): {acc_first:.4f}\")\n",
    "\n",
    "# Accuracy for any of the answers\n",
    "acc_any = compute_accuracy(outputs, use_first_only=False)\n",
    "print(f\"Accuracy (any answer): {acc_any:.4f}\")"
   ]
  },
  {
   "cell_type": "markdown",
   "id": "9c39019f-9b4e-48ba-b9cb-756382ecf901",
   "metadata": {},
   "source": [
    "### Stage 2: Re-evaluate the questions"
   ]
  },
  {
   "cell_type": "markdown",
   "id": "36c6b854-c818-41b2-a78c-662d7d59e7dc",
   "metadata": {},
   "source": [
    "#### Generating the input for the second stage"
   ]
  },
  {
   "cell_type": "code",
   "execution_count": 236,
   "id": "141b717e-653f-473c-bcf1-e3f5a4e900d7",
   "metadata": {},
   "outputs": [],
   "source": [
    "import re\n",
    "import os\n",
    "\n",
    "with open(f\"./results/{model}_{task}_100.json\", \"r\") as f:\n",
    "    outputs = json.load(f)\n",
    "    \n",
    "pattern = r'\\(([A-Z])\\)\\s*([^()]+)'\n",
    "\n",
    "for x, o in enumerate(outputs):\n",
    "    try:\n",
    "        \n",
    "        answers = o.get('reasoning', {})\n",
    "        keep = [answers['1']['answer'], answers['2']['answer']]\n",
    "    \n",
    "        # Step 1: extract all (A)...(D) options\n",
    "        text = o['question']\n",
    "        options = dict(re.findall(pattern, text))\n",
    "    \n",
    "        # Step 2: keep only selected ones\n",
    "        filtered = [(k, options[k].strip()) for k in keep]\n",
    "    \n",
    "        # Step 3: extract the question part (everything before the first option)\n",
    "        question_part = re.split(pattern, text)[0].strip()\n",
    "    \n",
    "        # Step 4: rewrite with the kept options, renumbering them (A), (B), ...\n",
    "        new_options = [f\"({chr(65+i)}) {v}\" for i, (_, v) in enumerate(filtered)]\n",
    "        rewritten = question_part + \" \" + \" \".join(new_options)\n",
    "    \n",
    "        outputs[x]['question'] = rewritten\n",
    "    \n",
    "        # Step 5: update gold_answer\n",
    "        if o['gold_answer'] in keep:\n",
    "            new_index = keep.index(o['gold_answer'])\n",
    "            updated_gold = chr(65 + new_index) \n",
    "        else:\n",
    "            updated_gold = \"N/A\"\n",
    "        outputs[x]['gold_answer'] = updated_gold\n",
    "    except KeyError as e:\n",
    "        print(x, e)\n",
    "        \n",
    "os.makedirs(\"./data/T2/\", exist_ok=True)\n",
    "save_path = f\"./data/T2/{model}_{task}_test.json\"\n",
    "with open(save_path, \"w\") as f:\n",
    "    json.dump(outputs, f)"
   ]
  },
  {
   "cell_type": "code",
   "execution_count": 237,
   "id": "3aee639f-aae3-469f-b58d-901fdfc19901",
   "metadata": {
    "scrolled": true
   },
   "outputs": [
    {
     "name": "stderr",
     "output_type": "stream",
     "text": [
      "173050.56s - pydevd: Sending message related to process being replaced timed-out after 5 seconds\n"
     ]
    },
    {
     "name": "stdout",
     "output_type": "stream",
     "text": [
      "ANTLR runtime and generated code versions disagree: 4.9.3!=4.7.2\n",
      "ANTLR runtime and generated code versions disagree: 4.9.3!=4.7.2\n",
      "ANTLR runtime and generated code versions disagree: 4.9.3!=4.7.2\n",
      "ANTLR runtime and generated code versions disagree: 4.9.3!=4.7.2\n",
      "INFO 10-23 09:32:59 [__init__.py:245] No platform detected, vLLM is running on UnspecifiedPlatform\n",
      "INFO 10-23 09:33:01 [utils.py:326] non-default args: {'model': 'meta-llama/Meta-Llama-3-8B-Instruct', 'download_dir': '', 'gpu_memory_utilization': 0.4, 'disable_log_stats': True}\n",
      "Traceback (most recent call last):\n",
      "  File \"/home/ssh_adnlp/reza/Tester/evaluate2.py\", line 96, in <module>\n",
      "    llm = LLM(model=base_model,\n",
      "  File \"/home/ssh_adnlp/miniconda3/envs/thinker/lib/python3.10/site-packages/vllm/entrypoints/llm.py\", line 285, in __init__\n",
      "    self.llm_engine = LLMEngine.from_engine_args(\n",
      "  File \"/home/ssh_adnlp/miniconda3/envs/thinker/lib/python3.10/site-packages/vllm/engine/llm_engine.py\", line 483, in from_engine_args\n",
      "    vllm_config = engine_args.create_engine_config(usage_context)\n",
      "  File \"/home/ssh_adnlp/miniconda3/envs/thinker/lib/python3.10/site-packages/vllm/engine/arg_utils.py\", line 1055, in create_engine_config\n",
      "    device_config = DeviceConfig(\n",
      "  File \"/home/ssh_adnlp/miniconda3/envs/thinker/lib/python3.10/site-packages/pydantic/_internal/_dataclasses.py\", line 123, in __init__\n",
      "    s.__pydantic_validator__.validate_python(ArgsKwargs(args, kwargs), self_instance=s)\n",
      "  File \"/home/ssh_adnlp/miniconda3/envs/thinker/lib/python3.10/site-packages/vllm/config/__init__.py\", line 1900, in __post_init__\n",
      "    self.device = torch.device(self.device_type)\n",
      "RuntimeError: Device string must not be empty\n"
     ]
    }
   ],
   "source": [
    "!CUDA_VISIBLE_DEVICES=0 python evaluate2.py --task $task --n 100 --model $model"
   ]
  },
  {
   "cell_type": "markdown",
   "id": "d6bd2ee9-7947-4f03-99cf-861e5f83d5a4",
   "metadata": {},
   "source": [
    "### Judging the final stage"
   ]
  },
  {
   "cell_type": "code",
   "execution_count": 232,
   "id": "980f4e2e-edbb-41eb-8cca-d568622a0424",
   "metadata": {},
   "outputs": [
    {
     "name": "stderr",
     "output_type": "stream",
     "text": [
      "116759.77s - pydevd: Sending message related to process being replaced timed-out after 5 seconds\n"
     ]
    },
    {
     "name": "stdout",
     "output_type": "stream",
     "text": [
      "Generating reasoning ...: 100%|█████████████| 2522/2522 [26:09<00:00,  1.61it/s]\n",
      "Accuracy:  0.5226011102299762\n",
      "olmo-2-7b_stem\n"
     ]
    }
   ],
   "source": [
    "!python judge.py --task $task --model $model #--max_examples 5\n",
    "print(f'{model}_{task}')"
   ]
  },
  {
   "cell_type": "code",
   "execution_count": null,
   "id": "1586390a-116d-4a4b-a624-4bb6b852855d",
   "metadata": {},
   "outputs": [],
   "source": []
  },
  {
   "cell_type": "code",
   "execution_count": null,
   "id": "638f8962-548a-4d8f-8118-ca446b930226",
   "metadata": {},
   "outputs": [],
   "source": []
  },
  {
   "cell_type": "code",
   "execution_count": null,
   "id": "a3ca1449-43c2-4cd5-849f-77b85b6e0c45",
   "metadata": {},
   "outputs": [],
   "source": []
  },
  {
   "cell_type": "code",
   "execution_count": 1,
   "id": "5cf02ac6-84bc-4157-9e54-fb8d2a6d0932",
   "metadata": {},
   "outputs": [],
   "source": [
    "from datasets import load_dataset\n",
    "\n",
    "subjects = {\n",
    "'stem' : [\n",
    "    \"abstract_algebra\",\n",
    "    \"anatomy\",\n",
    "    \"astronomy\",\n",
    "    \"college_biology\",\n",
    "    \"college_chemistry\",\n",
    "    \"college_mathematics\",\n",
    "    \"college_physics\",\n",
    "    \"computer_security\",\n",
    "    \"conceptual_physics\",\n",
    "    \"electrical_engineering\",\n",
    "    \"elementary_mathematics\",\n",
    "    \"high_school_biology\",\n",
    "    \"high_school_chemistry\",\n",
    "    \"high_school_computer_science\",\n",
    "    \"high_school_mathematics\",\n",
    "    \"high_school_physics\",\n",
    "    \"high_school_statistics\",\n",
    "    \"machine_learning\",\n",
    "],\n",
    "\n",
    "'humanities' : [\n",
    "    \"formal_logic\",\n",
    "    \"high_school_european_history\",\n",
    "    \"high_school_us_history\",\n",
    "    \"high_school_world_history\",\n",
    "    \"international_law\",\n",
    "    \"jurisprudence\",\n",
    "    \"logical_fallacies\",\n",
    "    \"moral_disputes\",\n",
    "    \"philosophy\"\n",
    "],\n",
    "\n",
    "'social_sciences' : [\n",
    "    \"econometrics\",\n",
    "    \"high_school_geography\",\n",
    "    \"high_school_government_and_politics\",\n",
    "    \"high_school_macroeconomics\",\n",
    "    \"high_school_microeconomics\",\n",
    "    \"high_school_psychology\",\n",
    "    \"human_sexuality\",\n",
    "    \"professional_psychology\",\n",
    "    \"public_relations\",\n",
    "    \"security_studies\",\n",
    "    \"sociology\",\n",
    "    \"us_foreign_policy\"\n",
    "],\n",
    "\n",
    "'other' : [\n",
    "    \"business_ethics\",\n",
    "    \"clinical_knowledge\",\n",
    "    \"college_medicine\",\n",
    "    \"global_facts\",\n",
    "    \"human_aging\",\n",
    "    \"management\",\n",
    "    \"marketing\",\n",
    "    \"medical_genetics\",\n",
    "    \"miscellaneous\",\n",
    "    \"nutrition\",\n",
    "    \"professional_accounting\",\n",
    "    \"professional_law\",\n",
    "    \"professional_medicine\",\n",
    "    \"virology\"\n",
    "]\n",
    "}\n",
    "\n"
   ]
  },
  {
   "cell_type": "code",
   "execution_count": 4,
   "id": "c3c92233-4ffb-44f8-aab0-1e5a7b1e6b06",
   "metadata": {},
   "outputs": [],
   "source": [
    "import json\n",
    "\n",
    "cat = 'humanities'\n",
    "\n",
    "mmlu = {}\n",
    "for s in subjects[cat]:\n",
    "    mmlu[s] = load_dataset('cais/mmlu', s, split='test')\n",
    "    \n",
    "dataset = []\n",
    "for s in subjects[cat]:\n",
    "    for sample in mmlu[s]:\n",
    "        question_text = sample['question']\n",
    "        options_str = \" \".join([f\"({chr(65+i)}) {opt}\" for i, opt in enumerate(sample['choices'])])\n",
    "\n",
    "        question = question_text + \" \" + options_str\n",
    "        correct_answer = chr(65+sample['answer'])\n",
    "        \n",
    "        dataset.append({'question': question, 'gold_answer': correct_answer})\n",
    "\n",
    "# os.makedirs(\"/home/ssh_adnlp/reza/Thinker/data/MMLU/\", exist_ok=True)\n",
    "with open(f\"./data/test_data/{cat}_test.json\", \"w\") as f:\n",
    "    json.dump(dataset, f)"
   ]
  },
  {
   "cell_type": "code",
   "execution_count": null,
   "id": "dfe7acdb-884c-4ddf-9803-911038cb43bb",
   "metadata": {},
   "outputs": [],
   "source": []
  }
 ],
 "metadata": {
  "kernelspec": {
   "display_name": "Python 3 (ipykernel)",
   "language": "python",
   "name": "python3"
  },
  "language_info": {
   "codemirror_mode": {
    "name": "ipython",
    "version": 3
   },
   "file_extension": ".py",
   "mimetype": "text/x-python",
   "name": "python",
   "nbconvert_exporter": "python",
   "pygments_lexer": "ipython3",
   "version": "3.10.14"
  }
 },
 "nbformat": 4,
 "nbformat_minor": 5
}
